{
 "cells": [
  {
   "cell_type": "code",
   "execution_count": 41,
   "id": "572f58c3-bacc-4a7d-b58c-8d807d7200a6",
   "metadata": {},
   "outputs": [],
   "source": [
    "import matplotlib.pyplot as plt\n",
    "%matplotlib inline"
   ]
  },
  {
   "cell_type": "code",
   "execution_count": 11,
   "id": "7096d1de-2131-48cb-930c-75a102860538",
   "metadata": {},
   "outputs": [],
   "source": [
    "import pandas as pd\n",
    "import numpy as np"
   ]
  },
  {
   "cell_type": "code",
   "execution_count": 12,
   "id": "ab1b3f1f-23e8-4fbc-be31-968f87f768df",
   "metadata": {},
   "outputs": [],
   "source": [
    "days=[1,2,3,4,5,6,7]"
   ]
  },
  {
   "cell_type": "code",
   "execution_count": 34,
   "id": "b104687c-3658-42bf-85b5-43e6cd9ac74c",
   "metadata": {},
   "outputs": [],
   "source": [
    "# tempratures\n",
    "temp_cairo=[22.5,22.7,27.3,26.1,20,22,4]\n",
    "temp_asyut=[30.5,12.7,27.3,5.1,20,9,25]"
   ]
  },
  {
   "cell_type": "code",
   "execution_count": 17,
   "id": "5dbe5c5e-6f51-40d6-b8be-4f2e55a7c20c",
   "metadata": {},
   "outputs": [
    {
     "data": {
      "text/plain": [
       "7"
      ]
     },
     "execution_count": 17,
     "metadata": {},
     "output_type": "execute_result"
    }
   ],
   "source": [
    "len(days)"
   ]
  },
  {
   "cell_type": "code",
   "execution_count": 18,
   "id": "a57766d1-6bd7-458f-853c-ae2aea3e14fe",
   "metadata": {},
   "outputs": [
    {
     "data": {
      "text/plain": [
       "8"
      ]
     },
     "execution_count": 18,
     "metadata": {},
     "output_type": "execute_result"
    }
   ],
   "source": [
    "len(temp_cairo)"
   ]
  },
  {
   "cell_type": "code",
   "execution_count": 28,
   "id": "3b755d6e-40c2-4016-8cdc-f36be50cbb5b",
   "metadata": {},
   "outputs": [
    {
     "data": {
      "text/plain": [
       "7"
      ]
     },
     "execution_count": 28,
     "metadata": {},
     "output_type": "execute_result"
    }
   ],
   "source": [
    "len(temp_cairo)"
   ]
  },
  {
   "cell_type": "code",
   "execution_count": 30,
   "id": "12eaf87f-d9f7-4d09-8c0d-29386f5290a9",
   "metadata": {},
   "outputs": [],
   "source": [
    "df_cairo=pd.DataFrame(data={'days':days, 'temperatures': temp_cairo})"
   ]
  },
  {
   "cell_type": "code",
   "execution_count": 31,
   "id": "fc535b0f-4f6a-4a50-a282-cf280408fc63",
   "metadata": {},
   "outputs": [
    {
     "data": {
      "text/html": [
       "<div>\n",
       "<style scoped>\n",
       "    .dataframe tbody tr th:only-of-type {\n",
       "        vertical-align: middle;\n",
       "    }\n",
       "\n",
       "    .dataframe tbody tr th {\n",
       "        vertical-align: top;\n",
       "    }\n",
       "\n",
       "    .dataframe thead th {\n",
       "        text-align: right;\n",
       "    }\n",
       "</style>\n",
       "<table border=\"1\" class=\"dataframe\">\n",
       "  <thead>\n",
       "    <tr style=\"text-align: right;\">\n",
       "      <th></th>\n",
       "      <th>days</th>\n",
       "      <th>temperatures</th>\n",
       "    </tr>\n",
       "  </thead>\n",
       "  <tbody>\n",
       "    <tr>\n",
       "      <th>0</th>\n",
       "      <td>1</td>\n",
       "      <td>22.5</td>\n",
       "    </tr>\n",
       "    <tr>\n",
       "      <th>1</th>\n",
       "      <td>2</td>\n",
       "      <td>22.7</td>\n",
       "    </tr>\n",
       "    <tr>\n",
       "      <th>2</th>\n",
       "      <td>3</td>\n",
       "      <td>27.3</td>\n",
       "    </tr>\n",
       "    <tr>\n",
       "      <th>3</th>\n",
       "      <td>4</td>\n",
       "      <td>26.1</td>\n",
       "    </tr>\n",
       "    <tr>\n",
       "      <th>4</th>\n",
       "      <td>5</td>\n",
       "      <td>20.0</td>\n",
       "    </tr>\n",
       "    <tr>\n",
       "      <th>5</th>\n",
       "      <td>6</td>\n",
       "      <td>22.0</td>\n",
       "    </tr>\n",
       "    <tr>\n",
       "      <th>6</th>\n",
       "      <td>7</td>\n",
       "      <td>4.0</td>\n",
       "    </tr>\n",
       "  </tbody>\n",
       "</table>\n",
       "</div>"
      ],
      "text/plain": [
       "   days  temperatures\n",
       "0     1          22.5\n",
       "1     2          22.7\n",
       "2     3          27.3\n",
       "3     4          26.1\n",
       "4     5          20.0\n",
       "5     6          22.0\n",
       "6     7           4.0"
      ]
     },
     "execution_count": 31,
     "metadata": {},
     "output_type": "execute_result"
    }
   ],
   "source": [
    "df_cairo"
   ]
  },
  {
   "cell_type": "code",
   "execution_count": 35,
   "id": "5af7f4fc-bc19-4df5-95d9-2e361d04ac65",
   "metadata": {},
   "outputs": [],
   "source": [
    "df_aysut=pd.DataFrame(data={'days':days, 'temperatures': temp_asyut})"
   ]
  },
  {
   "cell_type": "code",
   "execution_count": 37,
   "id": "1c1ffddf-2ef7-4afb-92de-e92238824609",
   "metadata": {},
   "outputs": [
    {
     "data": {
      "text/html": [
       "<div>\n",
       "<style scoped>\n",
       "    .dataframe tbody tr th:only-of-type {\n",
       "        vertical-align: middle;\n",
       "    }\n",
       "\n",
       "    .dataframe tbody tr th {\n",
       "        vertical-align: top;\n",
       "    }\n",
       "\n",
       "    .dataframe thead th {\n",
       "        text-align: right;\n",
       "    }\n",
       "</style>\n",
       "<table border=\"1\" class=\"dataframe\">\n",
       "  <thead>\n",
       "    <tr style=\"text-align: right;\">\n",
       "      <th></th>\n",
       "      <th>days</th>\n",
       "      <th>temperatures</th>\n",
       "    </tr>\n",
       "  </thead>\n",
       "  <tbody>\n",
       "    <tr>\n",
       "      <th>0</th>\n",
       "      <td>1</td>\n",
       "      <td>30.5</td>\n",
       "    </tr>\n",
       "    <tr>\n",
       "      <th>1</th>\n",
       "      <td>2</td>\n",
       "      <td>12.7</td>\n",
       "    </tr>\n",
       "    <tr>\n",
       "      <th>2</th>\n",
       "      <td>3</td>\n",
       "      <td>27.3</td>\n",
       "    </tr>\n",
       "    <tr>\n",
       "      <th>3</th>\n",
       "      <td>4</td>\n",
       "      <td>5.1</td>\n",
       "    </tr>\n",
       "    <tr>\n",
       "      <th>4</th>\n",
       "      <td>5</td>\n",
       "      <td>20.0</td>\n",
       "    </tr>\n",
       "    <tr>\n",
       "      <th>5</th>\n",
       "      <td>6</td>\n",
       "      <td>9.0</td>\n",
       "    </tr>\n",
       "    <tr>\n",
       "      <th>6</th>\n",
       "      <td>7</td>\n",
       "      <td>25.0</td>\n",
       "    </tr>\n",
       "  </tbody>\n",
       "</table>\n",
       "</div>"
      ],
      "text/plain": [
       "   days  temperatures\n",
       "0     1          30.5\n",
       "1     2          12.7\n",
       "2     3          27.3\n",
       "3     4           5.1\n",
       "4     5          20.0\n",
       "5     6           9.0\n",
       "6     7          25.0"
      ]
     },
     "execution_count": 37,
     "metadata": {},
     "output_type": "execute_result"
    }
   ],
   "source": [
    "df_aysut"
   ]
  },
  {
   "cell_type": "code",
   "execution_count": 42,
   "id": "25c31858-db13-4f89-b5b5-3145dff10f03",
   "metadata": {},
   "outputs": [],
   "source": [
    "# Line Chart"
   ]
  },
  {
   "cell_type": "code",
   "execution_count": null,
   "id": "7093b5fa-80e0-4112-ae84-26d32580d52e",
   "metadata": {},
   "outputs": [],
   "source": [
    "# Cairo Temeperatures Report"
   ]
  },
  {
   "cell_type": "code",
   "execution_count": 44,
   "id": "ffdb59e4-4760-48ba-9779-948c5826fc35",
   "metadata": {},
   "outputs": [
    {
     "data": {
      "text/plain": [
       "[<matplotlib.lines.Line2D at 0x16e8f05eb00>]"
      ]
     },
     "execution_count": 44,
     "metadata": {},
     "output_type": "execute_result"
    },
    {
     "data": {
      "image/png": "[encoded data removed]",
      "text/plain": [
       "<Figure size 432x288 with 1 Axes>"
      ]
     },
     "metadata": {
      "needs_background": "light"
     },
     "output_type": "display_data"
    }
   ],
   "source": [
    "plt.plot(df_cairo['days'], df_cairo['temperatures'])"
   ]
  },
  {
   "cell_type": "code",
   "execution_count": 45,
   "id": "c69afaaa-de23-407d-b8a6-2d54eede8059",
   "metadata": {},
   "outputs": [],
   "source": [
    "market_months=[5,6,7,8,9]\n",
    "market_prices=[20,15,100,90,60]"
   ]
  },
  {
   "cell_type": "code",
   "execution_count": 46,
   "id": "bfa48ee0-cc07-4c09-9720-b072b529b5a1",
   "metadata": {},
   "outputs": [],
   "source": [
    "market_progress_df=pd.DataFrame(data={'month':market_months, 'sell':market_prices})"
   ]
  },
  {
   "cell_type": "code",
   "execution_count": 48,
   "id": "a94c95ce-ee9b-4b16-8fa6-4a97e462dd3f",
   "metadata": {},
   "outputs": [
    {
     "data": {
      "text/html": [
       "<div>\n",
       "<style scoped>\n",
       "    .dataframe tbody tr th:only-of-type {\n",
       "        vertical-align: middle;\n",
       "    }\n",
       "\n",
       "    .dataframe tbody tr th {\n",
       "        vertical-align: top;\n",
       "    }\n",
       "\n",
       "    .dataframe thead th {\n",
       "        text-align: right;\n",
       "    }\n",
       "</style>\n",
       "<table border=\"1\" class=\"dataframe\">\n",
       "  <thead>\n",
       "    <tr style=\"text-align: right;\">\n",
       "      <th></th>\n",
       "      <th>month</th>\n",
       "      <th>sell</th>\n",
       "    </tr>\n",
       "  </thead>\n",
       "  <tbody>\n",
       "    <tr>\n",
       "      <th>0</th>\n",
       "      <td>5</td>\n",
       "      <td>20</td>\n",
       "    </tr>\n",
       "    <tr>\n",
       "      <th>1</th>\n",
       "      <td>6</td>\n",
       "      <td>15</td>\n",
       "    </tr>\n",
       "    <tr>\n",
       "      <th>2</th>\n",
       "      <td>7</td>\n",
       "      <td>100</td>\n",
       "    </tr>\n",
       "    <tr>\n",
       "      <th>3</th>\n",
       "      <td>8</td>\n",
       "      <td>90</td>\n",
       "    </tr>\n",
       "    <tr>\n",
       "      <th>4</th>\n",
       "      <td>9</td>\n",
       "      <td>60</td>\n",
       "    </tr>\n",
       "  </tbody>\n",
       "</table>\n",
       "</div>"
      ],
      "text/plain": [
       "   month  sell\n",
       "0      5    20\n",
       "1      6    15\n",
       "2      7   100\n",
       "3      8    90\n",
       "4      9    60"
      ]
     },
     "execution_count": 48,
     "metadata": {},
     "output_type": "execute_result"
    }
   ],
   "source": [
    "market_progress_df"
   ]
  },
  {
   "cell_type": "code",
   "execution_count": 49,
   "id": "7e902781-1447-48ca-8533-0482eb2384d1",
   "metadata": {},
   "outputs": [
    {
     "data": {
      "text/plain": [
       "[<matplotlib.lines.Line2D at 0x16e8f0ba020>]"
      ]
     },
     "execution_count": 49,
     "metadata": {},
     "output_type": "execute_result"
    },
    {
     "data": {
      "image/png": "[encoded data removed]",
      "text/plain": [
       "<Figure size 432x288 with 1 Axes>"
      ]
     },
     "metadata": {
      "needs_background": "light"
     },
     "output_type": "display_data"
    }
   ],
   "source": [
    "plt.plot(market_progress_df['month'],market_progress_df['sell'])"
   ]
  },
  {
   "cell_type": "code",
   "execution_count": null,
   "id": "5bd1d433-95ac-462d-b9c2-9c8ea51934d2",
   "metadata": {},
   "outputs": [],
   "source": []
  }
 ],
 "metadata": {
  "kernelspec": {
   "display_name": "Python 3 (ipykernel)",
   "language": "python",
   "name": "python3"
  },
  "language_info": {
   "codemirror_mode": {
    "name": "ipython",
    "version": 3
   },
   "file_extension": ".py",
   "mimetype": "text/x-python",
   "name": "python",
   "nbconvert_exporter": "python",
   "pygments_lexer": "ipython3",
   "version": "3.10.1"
  }
 },
 "nbformat": 4,
 "nbformat_minor": 5
}
